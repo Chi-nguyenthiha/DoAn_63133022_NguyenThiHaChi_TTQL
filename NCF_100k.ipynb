{
 "cells": [
  {
   "cell_type": "code",
   "execution_count": 1,
   "metadata": {},
   "outputs": [],
   "source": [
    "import pandas as pd\n",
    "import numpy as np\n",
    "import tensorflow as tf\n",
    "from tensorflow import keras\n",
    "from tensorflow.keras.layers import Input, Embedding, Flatten, Dense, Concatenate\n",
    "from tensorflow.keras.models import Model\n",
    "from sklearn.model_selection import train_test_split"
   ]
  },
  {
   "cell_type": "code",
   "execution_count": 2,
   "metadata": {},
   "outputs": [],
   "source": [
    "# 1. Load dataset\n",
    "ratings = pd.read_csv(\"dataset/ratings.csv\")\n",
    "movies = pd.read_csv(\"dataset/movies.csv\")"
   ]
  },
  {
   "cell_type": "code",
   "execution_count": 3,
   "metadata": {},
   "outputs": [],
   "source": [
    "# Ánh xạ userId và movieId về chỉ số liên tục\n",
    "user_mapping = {id: idx for idx, id in enumerate(ratings[\"userId\"].unique())}\n",
    "movie_mapping = {id: idx for idx, id in enumerate(ratings[\"movieId\"].unique())}\n",
    "\n",
    "ratings[\"userId\"] = ratings[\"userId\"].map(user_mapping)\n",
    "ratings[\"movieId\"] = ratings[\"movieId\"].map(movie_mapping)\n"
   ]
  },
  {
   "cell_type": "code",
   "execution_count": 4,
   "metadata": {},
   "outputs": [],
   "source": [
    "# 2. Chuyển rating thành nhị phân (tương tác hoặc không)\n",
    "ratings[\"interaction\"] = (ratings[\"rating\"] >= 3).astype(int)\n"
   ]
  },
  {
   "cell_type": "code",
   "execution_count": 5,
   "metadata": {},
   "outputs": [],
   "source": [
    "# 3. Chia dữ liệu thành tập train/test\n",
    "train_data, test_data = train_test_split(ratings, test_size=0.2, random_state=42)\n"
   ]
  },
  {
   "cell_type": "code",
   "execution_count": 6,
   "metadata": {},
   "outputs": [],
   "source": [
    "# 4. Lấy số lượng users và movies duy nhất\n",
    "num_users = ratings[\"userId\"].nunique()\n",
    "num_movies = ratings[\"movieId\"].nunique()\n"
   ]
  },
  {
   "cell_type": "code",
   "execution_count": 7,
   "metadata": {},
   "outputs": [],
   "source": [
    "# 5. Xây dựng mô hình NCF\n",
    "embedding_dim = 16"
   ]
  },
  {
   "cell_type": "code",
   "execution_count": 8,
   "metadata": {},
   "outputs": [],
   "source": [
    "# Input layers\n",
    "user_input = Input(shape=(1,), name=\"user_input\")\n",
    "movie_input = Input(shape=(1,), name=\"movie_input\")\n"
   ]
  },
  {
   "cell_type": "code",
   "execution_count": 9,
   "metadata": {},
   "outputs": [],
   "source": [
    "# Embedding layers\n",
    "user_embedding = Embedding(input_dim=num_users + 1, output_dim=embedding_dim, name=\"user_embedding\")(user_input)\n",
    "movie_embedding = Embedding(input_dim=num_movies + 1, output_dim=embedding_dim, name=\"movie_embedding\")(movie_input)\n"
   ]
  },
  {
   "cell_type": "code",
   "execution_count": 10,
   "metadata": {},
   "outputs": [],
   "source": [
    "# Flatten embeddings\n",
    "user_vec = Flatten()(user_embedding)\n",
    "movie_vec = Flatten()(movie_embedding)\n"
   ]
  },
  {
   "cell_type": "code",
   "execution_count": 11,
   "metadata": {},
   "outputs": [],
   "source": [
    "# GMF Layer\n",
    "gmf_output = tf.keras.layers.Multiply()([user_vec, movie_vec])\n"
   ]
  },
  {
   "cell_type": "code",
   "execution_count": 12,
   "metadata": {},
   "outputs": [],
   "source": [
    "# MLP Layer\n",
    "mlp_input = Concatenate()([user_vec, movie_vec])\n",
    "mlp_hidden = Dense(32, activation=\"relu\")(mlp_input)\n",
    "mlp_hidden = Dense(16, activation=\"relu\")(mlp_hidden)\n",
    "mlp_output = Dense(8, activation=\"relu\")(mlp_hidden)\n"
   ]
  },
  {
   "cell_type": "code",
   "execution_count": 13,
   "metadata": {},
   "outputs": [],
   "source": [
    "# Kết hợp GMF và MLP\n",
    "concat_layer = Concatenate()([gmf_output, mlp_output])\n",
    "output = Dense(1, activation=\"sigmoid\", name=\"output_layer\")(concat_layer)\n"
   ]
  },
  {
   "cell_type": "code",
   "execution_count": 14,
   "metadata": {},
   "outputs": [],
   "source": [
    "# Tạo model\n",
    "model = Model(inputs=[user_input, movie_input], outputs=output)\n",
    "model.compile(optimizer=\"adam\", loss=\"binary_crossentropy\", metrics=[\"accuracy\"])\n"
   ]
  },
  {
   "cell_type": "code",
   "execution_count": 15,
   "metadata": {},
   "outputs": [],
   "source": [
    "# 6. Chuẩn bị dữ liệu đầu vào\n",
    "train_user = train_data[\"userId\"].values\n",
    "train_movie = train_data[\"movieId\"].values\n",
    "train_label = train_data[\"interaction\"].values\n",
    "\n",
    "test_user = test_data[\"userId\"].values\n",
    "test_movie = test_data[\"movieId\"].values\n",
    "test_label = test_data[\"interaction\"].values\n"
   ]
  },
  {
   "cell_type": "code",
   "execution_count": 16,
   "metadata": {},
   "outputs": [
    {
     "name": "stdout",
     "output_type": "stream",
     "text": [
      "Epoch 1/10\n"
     ]
    },
    {
     "name": "stderr",
     "output_type": "stream",
     "text": [
      "/Users/chi.nguyenth/miniconda3/envs/myenv/lib/python3.11/site-packages/keras/src/models/functional.py:225: UserWarning: The structure of `inputs` doesn't match the expected structure: ['user_input', 'movie_input']. Received: the structure of inputs=('*', '*')\n",
      "  warnings.warn(\n"
     ]
    },
    {
     "name": "stdout",
     "output_type": "stream",
     "text": [
      "\u001b[1m1261/1261\u001b[0m \u001b[32m━━━━━━━━━━━━━━━━━━━━\u001b[0m\u001b[37m\u001b[0m \u001b[1m2s\u001b[0m 992us/step - accuracy: 0.8151 - loss: 0.4628 - val_accuracy: 0.8295 - val_loss: 0.3958\n",
      "Epoch 2/10\n",
      "\u001b[1m1261/1261\u001b[0m \u001b[32m━━━━━━━━━━━━━━━━━━━━\u001b[0m\u001b[37m\u001b[0m \u001b[1m1s\u001b[0m 1ms/step - accuracy: 0.8500 - loss: 0.3491 - val_accuracy: 0.8306 - val_loss: 0.3950\n",
      "Epoch 3/10\n",
      "\u001b[1m1261/1261\u001b[0m \u001b[32m━━━━━━━━━━━━━━━━━━━━\u001b[0m\u001b[37m\u001b[0m \u001b[1m1s\u001b[0m 989us/step - accuracy: 0.8661 - loss: 0.3192 - val_accuracy: 0.8269 - val_loss: 0.4075\n",
      "Epoch 4/10\n",
      "\u001b[1m1261/1261\u001b[0m \u001b[32m━━━━━━━━━━━━━━━━━━━━\u001b[0m\u001b[37m\u001b[0m \u001b[1m1s\u001b[0m 1ms/step - accuracy: 0.8771 - loss: 0.2958 - val_accuracy: 0.8247 - val_loss: 0.4273\n",
      "Epoch 5/10\n",
      "\u001b[1m1261/1261\u001b[0m \u001b[32m━━━━━━━━━━━━━━━━━━━━\u001b[0m\u001b[37m\u001b[0m \u001b[1m1s\u001b[0m 1ms/step - accuracy: 0.8803 - loss: 0.2835 - val_accuracy: 0.8246 - val_loss: 0.4359\n",
      "Epoch 6/10\n",
      "\u001b[1m1261/1261\u001b[0m \u001b[32m━━━━━━━━━━━━━━━━━━━━\u001b[0m\u001b[37m\u001b[0m \u001b[1m1s\u001b[0m 968us/step - accuracy: 0.8906 - loss: 0.2636 - val_accuracy: 0.8224 - val_loss: 0.4533\n",
      "Epoch 7/10\n",
      "\u001b[1m1261/1261\u001b[0m \u001b[32m━━━━━━━━━━━━━━━━━━━━\u001b[0m\u001b[37m\u001b[0m \u001b[1m1s\u001b[0m 998us/step - accuracy: 0.8985 - loss: 0.2482 - val_accuracy: 0.8150 - val_loss: 0.4804\n",
      "Epoch 8/10\n",
      "\u001b[1m1261/1261\u001b[0m \u001b[32m━━━━━━━━━━━━━━━━━━━━\u001b[0m\u001b[37m\u001b[0m \u001b[1m1s\u001b[0m 968us/step - accuracy: 0.9045 - loss: 0.2342 - val_accuracy: 0.8170 - val_loss: 0.5158\n",
      "Epoch 9/10\n",
      "\u001b[1m1261/1261\u001b[0m \u001b[32m━━━━━━━━━━━━━━━━━━━━\u001b[0m\u001b[37m\u001b[0m \u001b[1m1s\u001b[0m 966us/step - accuracy: 0.9086 - loss: 0.2204 - val_accuracy: 0.8066 - val_loss: 0.5449\n",
      "Epoch 10/10\n",
      "\u001b[1m1261/1261\u001b[0m \u001b[32m━━━━━━━━━━━━━━━━━━━━\u001b[0m\u001b[37m\u001b[0m \u001b[1m1s\u001b[0m 967us/step - accuracy: 0.9201 - loss: 0.1990 - val_accuracy: 0.8081 - val_loss: 0.5715\n"
     ]
    },
    {
     "data": {
      "text/plain": [
       "<keras.src.callbacks.history.History at 0x303445490>"
      ]
     },
     "execution_count": 16,
     "metadata": {},
     "output_type": "execute_result"
    }
   ],
   "source": [
    "# 7. Huấn luyện mô hình\n",
    "model.fit([train_user, train_movie], train_label, epochs=10, batch_size=64, validation_data=([test_user, test_movie], test_label))\n"
   ]
  },
  {
   "cell_type": "code",
   "execution_count": 17,
   "metadata": {},
   "outputs": [
    {
     "name": "stdout",
     "output_type": "stream",
     "text": [
      "\u001b[1m631/631\u001b[0m \u001b[32m━━━━━━━━━━━━━━━━━━━━\u001b[0m\u001b[37m\u001b[0m \u001b[1m0s\u001b[0m 279us/step - accuracy: 0.8039 - loss: 0.5913\n",
      "Test Accuracy: 0.8081\n"
     ]
    }
   ],
   "source": [
    "# 8. Kiểm thử mô hình\n",
    "loss, accuracy = model.evaluate([test_user, test_movie], test_label)\n",
    "print(f\"Test Accuracy: {accuracy:.4f}\")\n"
   ]
  },
  {
   "cell_type": "code",
   "execution_count": 18,
   "metadata": {},
   "outputs": [
    {
     "name": "stdout",
     "output_type": "stream",
     "text": [
      "\u001b[1m631/631\u001b[0m \u001b[32m━━━━━━━━━━━━━━━━━━━━\u001b[0m\u001b[37m\u001b[0m \u001b[1m0s\u001b[0m 378us/step\n",
      "Test AUC-ROC: 0.7486827549212645\n"
     ]
    }
   ],
   "source": [
    "from sklearn.metrics import roc_auc_score  \n",
    "pred = model.predict([test_user, test_movie])  \n",
    "print(\"Test AUC-ROC:\", roc_auc_score(test_label, pred))  \n"
   ]
  },
  {
   "cell_type": "code",
   "execution_count": 19,
   "metadata": {},
   "outputs": [],
   "source": [
    "# 5. Lưu mô hình\n",
    "#model.save(\"model/movie_recommendation_model.keras\")\n",
    "#print(\"✅ Mô hình đã được lưu dưới định dạng .keras!\")"
   ]
  },
  {
   "cell_type": "code",
   "execution_count": 20,
   "metadata": {},
   "outputs": [
    {
     "name": "stdout",
     "output_type": "stream",
     "text": [
      "\u001b[1m304/304\u001b[0m \u001b[32m━━━━━━━━━━━━━━━━━━━━\u001b[0m\u001b[37m\u001b[0m \u001b[1m0s\u001b[0m 330us/step\n",
      "      movieId                         title\n",
      "1252     1663                Stripes (1981)\n",
      "1258     1673          Boogie Nights (1997)\n",
      "2156     2871            Deliverance (1972)\n",
      "2218     2947             Goldfinger (1964)\n",
      "2219     2948  From Russia with Love (1963)\n"
     ]
    }
   ],
   "source": [
    "# 10. Hàm đề xuất phim\n",
    "def recommend_movies(user_id, top_n=5):\n",
    "    if user_id not in user_mapping:\n",
    "        print(\"User ID không hợp lệ.\")\n",
    "        return []\n",
    "    user_idx = user_mapping[user_id]\n",
    "    all_movie_ids = np.array(list(movie_mapping.values()))\n",
    "    user_input = np.full_like(all_movie_ids, user_idx)\n",
    "    predictions = model.predict([user_input, all_movie_ids]).flatten()\n",
    "    top_movie_indices = predictions.argsort()[-top_n:][::-1]\n",
    "    recommended_movie_ids = [list(movie_mapping.keys())[i] for i in top_movie_indices]\n",
    "    recommended_movies = movies[movies[\"movieId\"].isin(recommended_movie_ids)][[\"movieId\", \"title\"]]\n",
    "    return recommended_movies\n",
    "\n",
    "# 11. Thử nghiệm đề xuất phim\n",
    "user_id_example = 1\n",
    "print(recommend_movies(user_id_example))\n"
   ]
  },
  {
   "cell_type": "markdown",
   "metadata": {},
   "source": [
    "Xác định user trong tập dữ liệu\n",
    "\n",
    "Hàm kiểm tra xem user_id có trong dataset không.\n",
    "Nếu hợp lệ, nó ánh xạ user_id sang chỉ số (user_idx) dùng trong model.\n",
    "Tạo input để dự đoán\n",
    "\n",
    "Lấy toàn bộ movieId có trong dataset.\n",
    "Tạo một mảng chứa user_idx, có cùng kích thước với danh sách movieId, để model có thể dự đoán tất cả các phim cùng lúc.\n",
    "Dự đoán xác suất tương tác\n",
    "\n",
    "Dùng model đã huấn luyện (model.predict()) để tính toán mức độ tương tác của user_id với từng bộ phim.\n",
    "Sắp xếp kết quả dự đoán và chọn top_n phim có xác suất cao nhất.\n",
    "Trả về danh sách phim đề xuất\n",
    "\n",
    "Dùng movieId của các phim được đề xuất để lấy tên phim từ tập dữ liệu movies.csv."
   ]
  }
 ],
 "metadata": {
  "kernelspec": {
   "display_name": "myenv",
   "language": "python",
   "name": "python3"
  },
  "language_info": {
   "codemirror_mode": {
    "name": "ipython",
    "version": 3
   },
   "file_extension": ".py",
   "mimetype": "text/x-python",
   "name": "python",
   "nbconvert_exporter": "python",
   "pygments_lexer": "ipython3",
   "version": "3.11.10"
  }
 },
 "nbformat": 4,
 "nbformat_minor": 2
}
